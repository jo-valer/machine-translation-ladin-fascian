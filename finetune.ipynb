{
 "cells": [
  {
   "cell_type": "markdown",
   "metadata": {},
   "source": [
    "# Add Fassa Ladin to NLLB-200\n",
    "\n",
    "The training set consists of 862 parallel Fassa Ladin-Italian-English sentences. Due to memory limits, we use a batch size of 16 sentences. Since Ladin is not included in the pre-trained NLLB-200 model, we assign it the language code of Friulian, in order to leverage the similarities between these two languages. We investigate two main approaches to add Fassa Ladin:\n",
    "- Pivot-based Transfer Learning\n",
    "- Multilingual Translation"
   ]
  },
  {
   "cell_type": "markdown",
   "metadata": {},
   "source": [
    "## Requirements"
   ]
  },
  {
   "cell_type": "code",
   "execution_count": null,
   "metadata": {},
   "outputs": [],
   "source": [
    "!pip install sentencepiece transformers sacrebleu bert-score -q"
   ]
  },
  {
   "cell_type": "code",
   "execution_count": null,
   "metadata": {},
   "outputs": [],
   "source": [
    "import pandas as pd\n",
    "import csv\n",
    "from transformers import NllbTokenizer, AutoModelForSeq2SeqLM\n",
    "from tqdm.auto import trange\n",
    "import sacrebleu\n",
    "from bert_score import BERTScorer\n",
    "import gc\n",
    "import random\n",
    "import numpy as np\n",
    "import torch\n",
    "from transformers.optimization import Adafactor\n",
    "from transformers import get_constant_schedule_with_warmup"
   ]
  },
  {
   "cell_type": "markdown",
   "metadata": {},
   "source": [
    "## Data"
   ]
  },
  {
   "cell_type": "code",
   "execution_count": null,
   "metadata": {},
   "outputs": [],
   "source": [
    "!wget https://raw.githubusercontent.com/jo-valer/machine-translation-ladin-fascian/main/data/train.tsv\n",
    "!wget https://raw.githubusercontent.com/jo-valer/machine-translation-ladin-fascian/main/data/dev.tsv\n",
    "!wget https://raw.githubusercontent.com/jo-valer/machine-translation-ladin-fascian/main/data/test_id.tsv\n",
    "!wget https://raw.githubusercontent.com/jo-valer/machine-translation-ladin-fascian/main/data/test_ood.tsv"
   ]
  },
  {
   "cell_type": "code",
   "execution_count": null,
   "metadata": {},
   "outputs": [],
   "source": [
    "df_train = pd.read_csv('train.tsv', sep=\"\\t\", quoting=csv.QUOTE_NONE, encoding='utf-8')\n",
    "df_dev = pd.read_csv('dev.tsv', sep=\"\\t\", quoting=csv.QUOTE_NONE, encoding='utf-8')\n",
    "df_test = pd.read_csv('test_id.tsv', sep=\"\\t\", quoting=csv.QUOTE_NONE, encoding='utf-8')\n",
    "df_test_ood = pd.read_csv('test_ood.tsv', sep=\"\\t\", quoting=csv.QUOTE_NONE, encoding='utf-8')"
   ]
  },
  {
   "cell_type": "markdown",
   "metadata": {},
   "source": [
    "## Metrics"
   ]
  },
  {
   "cell_type": "code",
   "execution_count": null,
   "metadata": {},
   "outputs": [],
   "source": [
    "bleu_calc = sacrebleu.BLEU()\n",
    "chrf_calc = sacrebleu.CHRF(word_order=2)\n",
    "scorer = BERTScorer(model_type='bert-base-multilingual-cased')"
   ]
  },
  {
   "cell_type": "markdown",
   "metadata": {},
   "source": [
    "## Model"
   ]
  },
  {
   "cell_type": "code",
   "execution_count": null,
   "metadata": {},
   "outputs": [],
   "source": [
    "tokenizer = NllbTokenizer.from_pretrained('facebook/nllb-200-distilled-600M')\n",
    "model = AutoModelForSeq2SeqLM.from_pretrained('facebook/nllb-200-distilled-600M').cuda()"
   ]
  },
  {
   "cell_type": "markdown",
   "metadata": {},
   "source": [
    "Hyperparameters, optimizer and scheduler."
   ]
  },
  {
   "cell_type": "code",
   "execution_count": null,
   "metadata": {},
   "outputs": [],
   "source": [
    "# TRANSFER LEARNING APPROACH\n",
    "# 'en' = Pivot-based Transfer Learning\n",
    "# 'multi' = Multilingual Translation\n",
    "training_lang = 'multi'\n",
    "\n",
    "MODEL_SAVE_PATH = '/nllb-' + training_lang\n",
    "\n",
    "batch_size = 16\n",
    "max_length = 128\n",
    "warmup_steps = 500\n",
    "training_steps = 1800\n",
    "\n",
    "# Use just a subset of dev set, for faster validation\n",
    "df_dev = df_dev.sample(48)\n",
    "\n",
    "optimizer = Adafactor(\n",
    "    [p for p in model.parameters() if p.requires_grad],\n",
    "    scale_parameter=False,\n",
    "    relative_step=False,\n",
    "    lr=1.5e-4,\n",
    "    clip_threshold=1.0,\n",
    "    weight_decay=1e-3,\n",
    ")\n",
    "\n",
    "scheduler = get_constant_schedule_with_warmup(optimizer, num_warmup_steps=warmup_steps)"
   ]
  },
  {
   "cell_type": "markdown",
   "metadata": {},
   "source": [
    "### Evaluation loop"
   ]
  },
  {
   "cell_type": "code",
   "execution_count": null,
   "metadata": {},
   "outputs": [],
   "source": [
    "def translate(text, src_lang='fur_Latn', tgt_lang='eng_Latn', a=32, b=3, max_input_length=1024, num_beams=4, **kwargs):\n",
    "    \"\"\"Translate a sentence.\"\"\"\n",
    "    tokenizer.src_lang = src_lang\n",
    "    tokenizer.tgt_lang = tgt_lang\n",
    "    inputs = tokenizer(text, return_tensors='pt', padding=True, truncation=True, max_length=max_input_length)\n",
    "    outputs = model.generate(\n",
    "        **inputs.to(model.device),\n",
    "        forced_bos_token_id=tokenizer.convert_tokens_to_ids(tgt_lang),\n",
    "        max_new_tokens=int(a + b * inputs.input_ids.shape[1]),\n",
    "        num_beams=num_beams,\n",
    "        **kwargs\n",
    "    )\n",
    "    return tokenizer.batch_decode(outputs, skip_special_tokens=True)\n",
    "\n",
    "def eval_loop(data=df_dev, lang='multi'):\n",
    "    \"\"\"\n",
    "    Evaluate the model using Ladin dev sentences.\n",
    "    BLEU score is the metric used.\n",
    "    \"\"\"\n",
    "    model.eval()\n",
    "    with torch.no_grad():\n",
    "        if lang == 'multi':\n",
    "            en_translated = [translate(t, 'fur_Latn', 'eng_Latn')[0] for t in data.ladin]\n",
    "            it_translated = [translate(t, 'fur_Latn', 'ita_Latn')[0] for t in data.ladin]\n",
    "            lld_translated_en = [translate(t, 'eng_Latn', 'fur_Latn')[0] for t in data.english]\n",
    "            lld_translated_it = [translate(t, 'ita_Latn', 'fur_Latn')[0] for t in data.italian]\n",
    "            en_bleu_score = bleu_calc.corpus_score(en_translated, [data['english'].tolist()]).score\n",
    "            it_bleu_score = bleu_calc.corpus_score(it_translated, [data['italian'].tolist()]).score\n",
    "            lld_en_bleu_score = bleu_calc.corpus_score(lld_translated_en, [data['ladin'].tolist()]).score\n",
    "            lld_it_bleu_score = bleu_calc.corpus_score(lld_translated_it, [data['ladin'].tolist()]).score\n",
    "            avg_bleu_score = (en_bleu_score+it_bleu_score+lld_en_bleu_score+lld_it_bleu_score)/4\n",
    "        elif lang == 'en':\n",
    "            en_translated = [translate(t, 'fur_Latn', 'eng_Latn')[0] for t in data.ladin]\n",
    "            lld_translated_en = [translate(t, 'eng_Latn', 'fur_Latn')[0] for t in data.english]\n",
    "            en_bleu_score = bleu_calc.corpus_score(en_translated, [data['english'].tolist()]).score\n",
    "            lld_en_bleu_score = bleu_calc.corpus_score(lld_translated_en, [data['ladin'].tolist()]).score\n",
    "            avg_bleu_score = (en_bleu_score+lld_en_bleu_score)/2\n",
    "    return avg_bleu_score"
   ]
  },
  {
   "cell_type": "markdown",
   "metadata": {},
   "source": [
    "### Training\n",
    "\n",
    "Function to get random batches of data. Each batch has a randomly selected pair of languages, in a single direction. The code for training has been adapted from https://github.com/adaptNMT/adaptMLLM and https://github.com/slone-nlp/myv-nmt."
   ]
  },
  {
   "cell_type": "code",
   "execution_count": null,
   "metadata": {},
   "outputs": [],
   "source": [
    "LANGS_EN = [('english', 'eng_Latn'), ('ladin', 'fur_Latn')]\n",
    "\n",
    "PAIRS = [(('italian', 'ita_Latn'), ('ladin', 'fur_Latn')),\n",
    "         (('english', 'eng_Latn'), ('ladin', 'fur_Latn')),\n",
    "         (('ladin', 'fur_Latn'), ('italian', 'ita_Latn')),\n",
    "         (('ladin', 'fur_Latn'), ('english', 'eng_Latn'))]\n",
    "\n",
    "def get_batch_pairs(batch_size, data=df_train, lang='multi'):\n",
    "    if lang=='multi':\n",
    "        [((l1, long1), (l2, long2))] = random.sample(PAIRS, 1)\n",
    "    elif lang=='en':\n",
    "        (l1, long1), (l2, long2) = random.sample(LANGS_EN, 2)\n",
    "    xx, yy = [], []\n",
    "    for _ in range(batch_size):\n",
    "        item = data.iloc[random.randint(0, len(data)-1)]\n",
    "        xx.append(item[l1])\n",
    "        yy.append(item[l2])\n",
    "    return xx, yy, long1, long2"
   ]
  },
  {
   "cell_type": "markdown",
   "metadata": {},
   "source": [
    "Training loop."
   ]
  },
  {
   "cell_type": "code",
   "execution_count": null,
   "metadata": {},
   "outputs": [],
   "source": [
    "def cleanup():\n",
    "    \"\"\"\n",
    "    Function to clean up the memory, avoiding out-of-memory errors.\n",
    "    \"\"\"\n",
    "    gc.collect()\n",
    "    torch.cuda.empty_cache()\n",
    "\n",
    "cleanup()\n",
    "losses = []\n",
    "dev_scores = []\n",
    "best_score = 0\n",
    "x, y, loss = None, None, None\n",
    "\n",
    "tq = trange(len(losses), training_steps+1)\n",
    "for i in tq:\n",
    "    xx, yy, lang1, lang2 = get_batch_pairs(batch_size, lang=training_lang)\n",
    "    try:\n",
    "        model.train()\n",
    "        tokenizer.src_lang = lang1\n",
    "        x = tokenizer(xx, return_tensors='pt', padding=True, truncation=True, max_length=max_length).to(model.device)\n",
    "        tokenizer.src_lang = lang2\n",
    "        y = tokenizer(yy, return_tensors='pt', padding=True, truncation=True, max_length=max_length).to(model.device)\n",
    "        y.input_ids[y.input_ids == tokenizer.pad_token_id] = -100 # Ignore the pad_token_id when computing the loss\n",
    "\n",
    "        loss = model(**x, labels=y.input_ids).loss\n",
    "        loss.backward()\n",
    "        losses.append(loss.item())\n",
    "\n",
    "        optimizer.step()\n",
    "        optimizer.zero_grad(set_to_none=True)\n",
    "        scheduler.step()\n",
    "\n",
    "    except RuntimeError as e:\n",
    "        optimizer.zero_grad(set_to_none=True)\n",
    "        x, y, loss = None, None, None\n",
    "        cleanup()\n",
    "        print('error', max(len(s) for s in xx + yy), e)\n",
    "        continue\n",
    "\n",
    "    if i % 100 == 0:\n",
    "        avg_bleu_score = eval_loop(lang=training_lang)\n",
    "        print(f\"epoch {i}: avg Loss = {np.mean(losses[-100:]):.3f} / dev BLEU = {avg_bleu_score:.2f}\")\n",
    "        dev_scores.append(avg_bleu_score)\n",
    "\n",
    "    # Save the model if the eval BLEU score is better than the previous best\n",
    "    if i % 100 == 0 and i > 500 and avg_bleu_score>best_score:\n",
    "        best_score = avg_bleu_score\n",
    "        model.save_pretrained(MODEL_SAVE_PATH)\n",
    "        tokenizer.save_pretrained(MODEL_SAVE_PATH)"
   ]
  },
  {
   "cell_type": "markdown",
   "metadata": {},
   "source": [
    "Plots of the training."
   ]
  },
  {
   "cell_type": "code",
   "execution_count": null,
   "metadata": {},
   "outputs": [],
   "source": [
    "import matplotlib.pyplot as plt\n",
    "\n",
    "plt.plot(pd.Series(losses))\n",
    "plt.plot(pd.Series(losses).ewm(100).mean())\n",
    "\n",
    "plt.show()"
   ]
  },
  {
   "cell_type": "code",
   "execution_count": null,
   "metadata": {},
   "outputs": [],
   "source": [
    "sampled_losses = pd.Series(losses).iloc[::100]\n",
    "sampled_losses = sampled_losses.reset_index(drop=True)\n",
    "plt.plot(sampled_losses)\n",
    "\n",
    "dev_scores_series = pd.Series(dev_scores)\n",
    "\n",
    "plt.plot(dev_scores_series)\n",
    "plt.show()"
   ]
  }
 ],
 "metadata": {
  "language_info": {
   "name": "python"
  }
 },
 "nbformat": 4,
 "nbformat_minor": 2
}
